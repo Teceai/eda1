{
 "cells": [
  {
   "cell_type": "markdown",
   "id": "2f297031-91f6-4e8f-8cdb-ccecbd6a68b6",
   "metadata": {},
   "source": [
    "**Маргарита Бурова**\n",
    "\n",
    "* Преподаватель [Центра непрерывного образования](https://cs.hse.ru/dpo/) ФКН НИУ ВШЭ \n",
    "* Академический руководитель онлайн-магистратуры «[Магистр по наукам о данных](https://www.hse.ru/ma/mds/)»\n",
    "* \n",
    "Старший преподаватель ФКН НИУ ВШЭ\n",
    "\n",
    "<hr>"
   ]
  },
  {
   "cell_type": "markdown",
   "id": "bf2db9cb-18c5-49df-8e2e-b9216c1f18d1",
   "metadata": {},
   "source": [
    "# День 4. Немного машинного обучения"
   ]
  },
  {
   "cell_type": "code",
   "execution_count": 1,
   "id": "d7149b42-925e-4b1d-a50b-0293c4c35fbb",
   "metadata": {},
   "outputs": [],
   "source": [
    "import pandas as pd # импортируем библиотеку pandas\n",
    "\n",
    "df = pd.read_csv('dates.csv') # загружаем данные из файла dates.csv и записываем в переменную df"
   ]
  },
  {
   "cell_type": "markdown",
   "id": "d8dbb20f-97f2-44ab-9db1-6a85021d3a49",
   "metadata": {},
   "source": [
    "### Описание признаков\n",
    "\n",
    " * gender: пол\n",
    " * age: свой возраст\n",
    " * age_o: возраст партнера  \n",
    " * field: сфера занятий\n",
    " \n",
    "**Раздел про важность различных качеств (нужно распределить между 5 категориями 100 баллов)**\n",
    " * pref_o_attractive: Насколько важна привлекательность?\n",
    " * pref_o_sinsere: Насколько важна искренность?\n",
    " * pref_o_intelligence: Насколько важен интеллект? \n",
    " * pref_o_funny: Насколько важно чувство юмора?\n",
    " * pref_o_ambitious: Насколько важна амбициозность? \n",
    " * pref_o_shared_interests: Насколько важно разделять одинаковые интересы? \n",
    " \n",
    "**Как оценили друг друга на встрече (0-10)**\n",
    " * attractive_o: Оценка привлекательности (от партнера) в вечер встречи \n",
    " * sincere_o: Оценка искренности (от партнера) в вечер встречи\n",
    " * intelligence_o: Оценка интеллекта (от партнера) в вечер встречи \n",
    " * funny_o: Оценка чувства юмора (от партнера) в вечер встречи \n",
    " * ambitous_o: Оценка амбициозности (от партнера) в вечер встречи  \n",
    " * shared_interests_o: Оценка общих интересов (от партнера) в вечер встречи  \n",
    " * attractive: Оценка собственной привлекательности\n",
    " * sincere: Оценка собственной искренности   \n",
    " * intelligence: Оценка собственного интеллекта   \n",
    " * funny: Оценка собственного чувства юмора  \n",
    " * ambition: Оценка собственных амбиций\n",
    " * attractive_partner: Оценка привлекательности партнера в вечер встречи  \n",
    " * sincere_partner: Оценка искренности партнера в вечер встречи  \n",
    " * intelligence_partner: Оценка интеллекта партнера в вечер встречи   \n",
    " * funny_partner: Оценка чувства юмора партнера в вечер встречи   \n",
    " * ambition_partner: Оценка амбициозности партнера в вечер встречи   \n",
    " * shared_interests_partner: Оценка общих интересов партнера в вечер встречи  \n",
    "\n",
    "**Оценка своих интересов в разных сферах (0-10)**\n",
    " * sports\n",
    " * tvsports  \n",
    " * exercise  \n",
    " * dining  \n",
    " * museums  \n",
    " * art  \n",
    " * hiking  \n",
    " * gaming  \n",
    " * clubbing  \n",
    " * reading  \n",
    " * tv  \n",
    " * theater  \n",
    " * movies  \n",
    " * concerts  \n",
    " * music  \n",
    " * shopping  \n",
    " * yoga   \n",
    " \n",
    "**Оценка ожиданий от быстрого свидания**\n",
    " * expected_happy_with_sd_people: Насколько вы будете удовлетворены людьми, которых встретите на спид-дэйтинге? (0-10)\n",
    " * expected_num_interested_in_me: Из 20 людей, которых вы встретите на спид-дейтинге, как вы думаете, сколько будут заинтересованы пойти с вами на настоящее свидание?\n",
    " * expected_num_matches: Сколько взаимных симпатий вы ожидаете?\n",
    " \n",
    "**Результаты быстрого свидания**\n",
    " * like: Понравился ли вам партнер?  \n",
    " * met: Вы уже встречались с этим партнером?\n",
    " * decision: Ваше решение\n",
    " * decision_o: Решение вашего партнера \n",
    " * match: Мэтч (да/нет)"
   ]
  },
  {
   "cell_type": "code",
   "execution_count": 2,
   "id": "4718ca9a-e11e-4887-a593-bcf31601cdd8",
   "metadata": {},
   "outputs": [
    {
     "data": {
      "text/html": [
       "<div>\n",
       "<style scoped>\n",
       "    .dataframe tbody tr th:only-of-type {\n",
       "        vertical-align: middle;\n",
       "    }\n",
       "\n",
       "    .dataframe tbody tr th {\n",
       "        vertical-align: top;\n",
       "    }\n",
       "\n",
       "    .dataframe thead th {\n",
       "        text-align: right;\n",
       "    }\n",
       "</style>\n",
       "<table border=\"1\" class=\"dataframe\">\n",
       "  <thead>\n",
       "    <tr style=\"text-align: right;\">\n",
       "      <th></th>\n",
       "      <th>gender</th>\n",
       "      <th>age</th>\n",
       "      <th>age_o</th>\n",
       "      <th>field</th>\n",
       "      <th>pref_o_attractive</th>\n",
       "      <th>pref_o_sincere</th>\n",
       "      <th>pref_o_intelligence</th>\n",
       "      <th>pref_o_funny</th>\n",
       "      <th>pref_o_ambitious</th>\n",
       "      <th>pref_o_shared_interests</th>\n",
       "      <th>...</th>\n",
       "      <th>shopping</th>\n",
       "      <th>yoga</th>\n",
       "      <th>expected_happy_with_sd_people</th>\n",
       "      <th>expected_num_interested_in_me</th>\n",
       "      <th>expected_num_matches</th>\n",
       "      <th>like</th>\n",
       "      <th>met</th>\n",
       "      <th>decision</th>\n",
       "      <th>decision_o</th>\n",
       "      <th>match</th>\n",
       "    </tr>\n",
       "  </thead>\n",
       "  <tbody>\n",
       "    <tr>\n",
       "      <th>0</th>\n",
       "      <td>female</td>\n",
       "      <td>21</td>\n",
       "      <td>27</td>\n",
       "      <td>Law</td>\n",
       "      <td>35.0</td>\n",
       "      <td>20.0</td>\n",
       "      <td>20.0</td>\n",
       "      <td>20.0</td>\n",
       "      <td>0.0</td>\n",
       "      <td>5.0</td>\n",
       "      <td>...</td>\n",
       "      <td>8</td>\n",
       "      <td>1</td>\n",
       "      <td>3</td>\n",
       "      <td>2</td>\n",
       "      <td>4</td>\n",
       "      <td>7.0</td>\n",
       "      <td>0</td>\n",
       "      <td>1</td>\n",
       "      <td>0</td>\n",
       "      <td>0</td>\n",
       "    </tr>\n",
       "    <tr>\n",
       "      <th>1</th>\n",
       "      <td>female</td>\n",
       "      <td>21</td>\n",
       "      <td>22</td>\n",
       "      <td>Law</td>\n",
       "      <td>60.0</td>\n",
       "      <td>0.0</td>\n",
       "      <td>0.0</td>\n",
       "      <td>40.0</td>\n",
       "      <td>0.0</td>\n",
       "      <td>0.0</td>\n",
       "      <td>...</td>\n",
       "      <td>8</td>\n",
       "      <td>1</td>\n",
       "      <td>3</td>\n",
       "      <td>2</td>\n",
       "      <td>4</td>\n",
       "      <td>7.0</td>\n",
       "      <td>1</td>\n",
       "      <td>1</td>\n",
       "      <td>0</td>\n",
       "      <td>0</td>\n",
       "    </tr>\n",
       "    <tr>\n",
       "      <th>2</th>\n",
       "      <td>female</td>\n",
       "      <td>21</td>\n",
       "      <td>23</td>\n",
       "      <td>Law</td>\n",
       "      <td>30.0</td>\n",
       "      <td>5.0</td>\n",
       "      <td>15.0</td>\n",
       "      <td>40.0</td>\n",
       "      <td>5.0</td>\n",
       "      <td>5.0</td>\n",
       "      <td>...</td>\n",
       "      <td>8</td>\n",
       "      <td>1</td>\n",
       "      <td>3</td>\n",
       "      <td>2</td>\n",
       "      <td>4</td>\n",
       "      <td>7.0</td>\n",
       "      <td>0</td>\n",
       "      <td>1</td>\n",
       "      <td>1</td>\n",
       "      <td>1</td>\n",
       "    </tr>\n",
       "    <tr>\n",
       "      <th>3</th>\n",
       "      <td>female</td>\n",
       "      <td>21</td>\n",
       "      <td>24</td>\n",
       "      <td>Law</td>\n",
       "      <td>30.0</td>\n",
       "      <td>10.0</td>\n",
       "      <td>20.0</td>\n",
       "      <td>10.0</td>\n",
       "      <td>10.0</td>\n",
       "      <td>20.0</td>\n",
       "      <td>...</td>\n",
       "      <td>8</td>\n",
       "      <td>1</td>\n",
       "      <td>3</td>\n",
       "      <td>2</td>\n",
       "      <td>4</td>\n",
       "      <td>6.0</td>\n",
       "      <td>0</td>\n",
       "      <td>1</td>\n",
       "      <td>1</td>\n",
       "      <td>1</td>\n",
       "    </tr>\n",
       "    <tr>\n",
       "      <th>4</th>\n",
       "      <td>female</td>\n",
       "      <td>21</td>\n",
       "      <td>25</td>\n",
       "      <td>Law</td>\n",
       "      <td>50.0</td>\n",
       "      <td>0.0</td>\n",
       "      <td>30.0</td>\n",
       "      <td>10.0</td>\n",
       "      <td>0.0</td>\n",
       "      <td>10.0</td>\n",
       "      <td>...</td>\n",
       "      <td>8</td>\n",
       "      <td>1</td>\n",
       "      <td>3</td>\n",
       "      <td>2</td>\n",
       "      <td>4</td>\n",
       "      <td>6.0</td>\n",
       "      <td>0</td>\n",
       "      <td>0</td>\n",
       "      <td>1</td>\n",
       "      <td>0</td>\n",
       "    </tr>\n",
       "  </tbody>\n",
       "</table>\n",
       "<p>5 rows × 52 columns</p>\n",
       "</div>"
      ],
      "text/plain": [
       "   gender  age  age_o field  pref_o_attractive  pref_o_sincere  \\\n",
       "0  female   21     27   Law               35.0            20.0   \n",
       "1  female   21     22   Law               60.0             0.0   \n",
       "2  female   21     23   Law               30.0             5.0   \n",
       "3  female   21     24   Law               30.0            10.0   \n",
       "4  female   21     25   Law               50.0             0.0   \n",
       "\n",
       "   pref_o_intelligence  pref_o_funny  pref_o_ambitious  \\\n",
       "0                 20.0          20.0               0.0   \n",
       "1                  0.0          40.0               0.0   \n",
       "2                 15.0          40.0               5.0   \n",
       "3                 20.0          10.0              10.0   \n",
       "4                 30.0          10.0               0.0   \n",
       "\n",
       "   pref_o_shared_interests  ...  shopping  yoga  \\\n",
       "0                      5.0  ...         8     1   \n",
       "1                      0.0  ...         8     1   \n",
       "2                      5.0  ...         8     1   \n",
       "3                     20.0  ...         8     1   \n",
       "4                     10.0  ...         8     1   \n",
       "\n",
       "   expected_happy_with_sd_people  expected_num_interested_in_me  \\\n",
       "0                              3                              2   \n",
       "1                              3                              2   \n",
       "2                              3                              2   \n",
       "3                              3                              2   \n",
       "4                              3                              2   \n",
       "\n",
       "   expected_num_matches  like  met  decision  decision_o  match  \n",
       "0                     4   7.0    0         1           0      0  \n",
       "1                     4   7.0    1         1           0      0  \n",
       "2                     4   7.0    0         1           1      1  \n",
       "3                     4   6.0    0         1           1      1  \n",
       "4                     4   6.0    0         0           1      0  \n",
       "\n",
       "[5 rows x 52 columns]"
      ]
     },
     "execution_count": 2,
     "metadata": {},
     "output_type": "execute_result"
    }
   ],
   "source": [
    "df.head()"
   ]
  },
  {
   "cell_type": "markdown",
   "id": "1a7e3038-2b3e-4a04-9ffc-9f2494eab6d8",
   "metadata": {},
   "source": [
    "## Предскажем match!"
   ]
  },
  {
   "cell_type": "code",
   "execution_count": 3,
   "id": "17aa15bb-8e54-4b89-ba83-13098a3f7195",
   "metadata": {},
   "outputs": [],
   "source": [
    "from sklearn import tree #деревья решений\n",
    "from sklearn import metrics #метрики\n",
    "from sklearn.model_selection import train_test_split #сплитование выборки"
   ]
  },
  {
   "cell_type": "code",
   "execution_count": 4,
   "id": "c65a3605-6954-48b2-8552-539a2d0b3c3b",
   "metadata": {},
   "outputs": [
    {
     "data": {
      "text/plain": [
       "Index(['gender', 'age', 'age_o', 'field', 'pref_o_attractive',\n",
       "       'pref_o_sincere', 'pref_o_intelligence', 'pref_o_funny',\n",
       "       'pref_o_ambitious', 'pref_o_shared_interests', 'attractive_o',\n",
       "       'sinsere_o', 'intelligence_o', 'funny_o', 'ambitous_o',\n",
       "       'shared_interests_o', 'attractive', 'sincere', 'intelligence', 'funny',\n",
       "       'ambition', 'attractive_partner', 'sincere_partner',\n",
       "       'intelligence_partner', 'funny_partner', 'ambition_partner',\n",
       "       'shared_interests_partner', 'sports', 'tvsports', 'exercise', 'dining',\n",
       "       'museums', 'art', 'hiking', 'gaming', 'clubbing', 'reading', 'tv',\n",
       "       'theater', 'movies', 'concerts', 'music', 'shopping', 'yoga',\n",
       "       'expected_happy_with_sd_people', 'expected_num_interested_in_me',\n",
       "       'expected_num_matches', 'like', 'met', 'decision', 'decision_o',\n",
       "       'match'],\n",
       "      dtype='object')"
      ]
     },
     "execution_count": 4,
     "metadata": {},
     "output_type": "execute_result"
    }
   ],
   "source": [
    "df.columns # посмотрим, какие колонки есть в данных"
   ]
  },
  {
   "cell_type": "code",
   "execution_count": 5,
   "id": "cadc13b9-9dbd-46c1-b9d5-9bea80db3442",
   "metadata": {},
   "outputs": [],
   "source": [
    "X = df.drop(['decision', 'decision_o','match'], axis = 1) # то, с помощью чего предсказываем\n",
    "y = df['match'] # то, что предсказываем"
   ]
  },
  {
   "cell_type": "code",
   "execution_count": 6,
   "id": "6d870a93-1e98-4f5a-bef3-7d088f87ad9e",
   "metadata": {},
   "outputs": [
    {
     "data": {
      "text/plain": [
       "match\n",
       "0    862\n",
       "1    186\n",
       "Name: count, dtype: int64"
      ]
     },
     "execution_count": 6,
     "metadata": {},
     "output_type": "execute_result"
    }
   ],
   "source": [
    "y.value_counts()"
   ]
  },
  {
   "cell_type": "markdown",
   "id": "5f7395f2-c08e-44af-82ac-2f1de3566985",
   "metadata": {},
   "source": [
    "## Немножечко предобработки"
   ]
  },
  {
   "cell_type": "markdown",
   "id": "9754c619-2e43-46d7-8918-a9b10d9e0990",
   "metadata": {},
   "source": [
    "А какого типа наши данные?"
   ]
  },
  {
   "cell_type": "code",
   "execution_count": 7,
   "id": "197311c4-7573-4485-b609-36b39674f79f",
   "metadata": {},
   "outputs": [
    {
     "name": "stdout",
     "output_type": "stream",
     "text": [
      "<class 'pandas.core.frame.DataFrame'>\n",
      "RangeIndex: 1048 entries, 0 to 1047\n",
      "Data columns (total 52 columns):\n",
      " #   Column                         Non-Null Count  Dtype  \n",
      "---  ------                         --------------  -----  \n",
      " 0   gender                         1048 non-null   object \n",
      " 1   age                            1048 non-null   int64  \n",
      " 2   age_o                          1048 non-null   int64  \n",
      " 3   field                          1048 non-null   object \n",
      " 4   pref_o_attractive              1048 non-null   float64\n",
      " 5   pref_o_sincere                 1048 non-null   float64\n",
      " 6   pref_o_intelligence            1048 non-null   float64\n",
      " 7   pref_o_funny                   1048 non-null   float64\n",
      " 8   pref_o_ambitious               1048 non-null   float64\n",
      " 9   pref_o_shared_interests        1048 non-null   float64\n",
      " 10  attractive_o                   1048 non-null   float64\n",
      " 11  sinsere_o                      1048 non-null   int64  \n",
      " 12  intelligence_o                 1048 non-null   float64\n",
      " 13  funny_o                        1048 non-null   float64\n",
      " 14  ambitous_o                     1048 non-null   int64  \n",
      " 15  shared_interests_o             1048 non-null   float64\n",
      " 16  attractive                     1048 non-null   int64  \n",
      " 17  sincere                        1048 non-null   int64  \n",
      " 18  intelligence                   1048 non-null   int64  \n",
      " 19  funny                          1048 non-null   int64  \n",
      " 20  ambition                       1048 non-null   int64  \n",
      " 21  attractive_partner             1048 non-null   int64  \n",
      " 22  sincere_partner                1048 non-null   int64  \n",
      " 23  intelligence_partner           1048 non-null   int64  \n",
      " 24  funny_partner                  1048 non-null   int64  \n",
      " 25  ambition_partner               1048 non-null   int64  \n",
      " 26  shared_interests_partner       1048 non-null   int64  \n",
      " 27  sports                         1048 non-null   int64  \n",
      " 28  tvsports                       1048 non-null   int64  \n",
      " 29  exercise                       1048 non-null   int64  \n",
      " 30  dining                         1048 non-null   int64  \n",
      " 31  museums                        1048 non-null   int64  \n",
      " 32  art                            1048 non-null   int64  \n",
      " 33  hiking                         1048 non-null   int64  \n",
      " 34  gaming                         1048 non-null   int64  \n",
      " 35  clubbing                       1048 non-null   int64  \n",
      " 36  reading                        1048 non-null   int64  \n",
      " 37  tv                             1048 non-null   int64  \n",
      " 38  theater                        1048 non-null   int64  \n",
      " 39  movies                         1048 non-null   int64  \n",
      " 40  concerts                       1048 non-null   int64  \n",
      " 41  music                          1048 non-null   int64  \n",
      " 42  shopping                       1048 non-null   int64  \n",
      " 43  yoga                           1048 non-null   int64  \n",
      " 44  expected_happy_with_sd_people  1048 non-null   int64  \n",
      " 45  expected_num_interested_in_me  1048 non-null   int64  \n",
      " 46  expected_num_matches           1048 non-null   int64  \n",
      " 47  like                           1048 non-null   float64\n",
      " 48  met                            1048 non-null   int64  \n",
      " 49  decision                       1048 non-null   int64  \n",
      " 50  decision_o                     1048 non-null   int64  \n",
      " 51  match                          1048 non-null   int64  \n",
      "dtypes: float64(11), int64(39), object(2)\n",
      "memory usage: 425.9+ KB\n"
     ]
    }
   ],
   "source": [
    "df.info()"
   ]
  },
  {
   "cell_type": "markdown",
   "id": "c70b7bd6-7cd9-4a7e-96aa-07d9db4f9fde",
   "metadata": {},
   "source": [
    "## Dummy - переменные"
   ]
  },
  {
   "cell_type": "markdown",
   "id": "918b904a-78f7-466f-be90-3f2b06902376",
   "metadata": {},
   "source": [
    "Что делать, если какие-то данные представлены в текстовом виде?"
   ]
  },
  {
   "cell_type": "markdown",
   "id": "5143925a-8b4b-48eb-ba49-2548687f3cae",
   "metadata": {},
   "source": [
    "<div>\n",
    "<img src=\"https://codecamp.ru/content/images/2021/09/oneHot1.png\" width=\"500\"/>\n",
    "</div>"
   ]
  },
  {
   "cell_type": "code",
   "execution_count": 8,
   "id": "4bd70ce4-36d7-4ec5-9ff0-b3e50e199ae5",
   "metadata": {},
   "outputs": [],
   "source": [
    "X = pd.get_dummies(X, drop_first = True) # создаем дамми-переменные"
   ]
  },
  {
   "cell_type": "code",
   "execution_count": 9,
   "id": "abfc4c52-2c6f-402d-ada0-b767de600ab5",
   "metadata": {},
   "outputs": [
    {
     "name": "stdout",
     "output_type": "stream",
     "text": [
      "<class 'pandas.core.frame.DataFrame'>\n",
      "RangeIndex: 1048 entries, 0 to 1047\n",
      "Data columns (total 98 columns):\n",
      " #   Column                                       Non-Null Count  Dtype  \n",
      "---  ------                                       --------------  -----  \n",
      " 0   age                                          1048 non-null   int64  \n",
      " 1   age_o                                        1048 non-null   int64  \n",
      " 2   pref_o_attractive                            1048 non-null   float64\n",
      " 3   pref_o_sincere                               1048 non-null   float64\n",
      " 4   pref_o_intelligence                          1048 non-null   float64\n",
      " 5   pref_o_funny                                 1048 non-null   float64\n",
      " 6   pref_o_ambitious                             1048 non-null   float64\n",
      " 7   pref_o_shared_interests                      1048 non-null   float64\n",
      " 8   attractive_o                                 1048 non-null   float64\n",
      " 9   sinsere_o                                    1048 non-null   int64  \n",
      " 10  intelligence_o                               1048 non-null   float64\n",
      " 11  funny_o                                      1048 non-null   float64\n",
      " 12  ambitous_o                                   1048 non-null   int64  \n",
      " 13  shared_interests_o                           1048 non-null   float64\n",
      " 14  attractive                                   1048 non-null   int64  \n",
      " 15  sincere                                      1048 non-null   int64  \n",
      " 16  intelligence                                 1048 non-null   int64  \n",
      " 17  funny                                        1048 non-null   int64  \n",
      " 18  ambition                                     1048 non-null   int64  \n",
      " 19  attractive_partner                           1048 non-null   int64  \n",
      " 20  sincere_partner                              1048 non-null   int64  \n",
      " 21  intelligence_partner                         1048 non-null   int64  \n",
      " 22  funny_partner                                1048 non-null   int64  \n",
      " 23  ambition_partner                             1048 non-null   int64  \n",
      " 24  shared_interests_partner                     1048 non-null   int64  \n",
      " 25  sports                                       1048 non-null   int64  \n",
      " 26  tvsports                                     1048 non-null   int64  \n",
      " 27  exercise                                     1048 non-null   int64  \n",
      " 28  dining                                       1048 non-null   int64  \n",
      " 29  museums                                      1048 non-null   int64  \n",
      " 30  art                                          1048 non-null   int64  \n",
      " 31  hiking                                       1048 non-null   int64  \n",
      " 32  gaming                                       1048 non-null   int64  \n",
      " 33  clubbing                                     1048 non-null   int64  \n",
      " 34  reading                                      1048 non-null   int64  \n",
      " 35  tv                                           1048 non-null   int64  \n",
      " 36  theater                                      1048 non-null   int64  \n",
      " 37  movies                                       1048 non-null   int64  \n",
      " 38  concerts                                     1048 non-null   int64  \n",
      " 39  music                                        1048 non-null   int64  \n",
      " 40  shopping                                     1048 non-null   int64  \n",
      " 41  yoga                                         1048 non-null   int64  \n",
      " 42  expected_happy_with_sd_people                1048 non-null   int64  \n",
      " 43  expected_num_interested_in_me                1048 non-null   int64  \n",
      " 44  expected_num_matches                         1048 non-null   int64  \n",
      " 45  like                                         1048 non-null   float64\n",
      " 46  met                                          1048 non-null   int64  \n",
      " 47  gender_male                                  1048 non-null   bool   \n",
      " 48  field_Art History/Medicine                   1048 non-null   bool   \n",
      " 49  field_Biomedical Engineering                 1048 non-null   bool   \n",
      " 50  field_Business                               1048 non-null   bool   \n",
      " 51  field_Business & International Affairs       1048 non-null   bool   \n",
      " 52  field_Business [Mba]                         1048 non-null   bool   \n",
      " 53  field_Business- Mba                          1048 non-null   bool   \n",
      " 54  field_Chemistry                              1048 non-null   bool   \n",
      " 55  field_Classics                               1048 non-null   bool   \n",
      " 56  field_Communications                         1048 non-null   bool   \n",
      " 57  field_Computer Science                       1048 non-null   bool   \n",
      " 58  field_Economics                              1048 non-null   bool   \n",
      " 59  field_Economics And Political Science        1048 non-null   bool   \n",
      " 60  field_Economics; Sociology                   1048 non-null   bool   \n",
      " 61  field_Educational Psychology                 1048 non-null   bool   \n",
      " 62  field_Electrical Engineering                 1048 non-null   bool   \n",
      " 63  field_Elementary/Childhood Education [Ma]    1048 non-null   bool   \n",
      " 64  field_Engineering                            1048 non-null   bool   \n",
      " 65  field_English                                1048 non-null   bool   \n",
      " 66  field_Film                                   1048 non-null   bool   \n",
      " 67  field_Finanace                               1048 non-null   bool   \n",
      " 68  field_Finance                                1048 non-null   bool   \n",
      " 69  field_Finance&Economics                      1048 non-null   bool   \n",
      " 70  field_Financial Math                         1048 non-null   bool   \n",
      " 71  field_German Literature                      1048 non-null   bool   \n",
      " 72  field_International Educational Development  1048 non-null   bool   \n",
      " 73  field_Journalism                             1048 non-null   bool   \n",
      " 74  field_Law                                    1048 non-null   bool   \n",
      " 75  field_Marketing                              1048 non-null   bool   \n",
      " 76  field_Masters In Public Administration       1048 non-null   bool   \n",
      " 77  field_Masters Of Social Work                 1048 non-null   bool   \n",
      " 78  field_Mathematical Finance                   1048 non-null   bool   \n",
      " 79  field_Mathematics                            1048 non-null   bool   \n",
      " 80  field_Mba                                    1048 non-null   bool   \n",
      " 81  field_Mechanical Engineering                 1048 non-null   bool   \n",
      " 82  field_Medicine                               1048 non-null   bool   \n",
      " 83  field_Microbiology                           1048 non-null   bool   \n",
      " 84  field_Operations Research                    1048 non-null   bool   \n",
      " 85  field_Operations Research [Seas]             1048 non-null   bool   \n",
      " 86  field_Organizational Psychology              1048 non-null   bool   \n",
      " 87  field_Philosophy                             1048 non-null   bool   \n",
      " 88  field_Polish                                 1048 non-null   bool   \n",
      " 89  field_Political Science                      1048 non-null   bool   \n",
      " 90  field_Psychology                             1048 non-null   bool   \n",
      " 91  field_Psychology And English                 1048 non-null   bool   \n",
      " 92  field_Social Work                            1048 non-null   bool   \n",
      " 93  field_Sociology                              1048 non-null   bool   \n",
      " 94  field_Speech Language Pathology              1048 non-null   bool   \n",
      " 95  field_Statistics                             1048 non-null   bool   \n",
      " 96  field_Tc [Health Ed]                         1048 non-null   bool   \n",
      " 97  field_Undergrad - Gs                         1048 non-null   bool   \n",
      "dtypes: bool(51), float64(11), int64(36)\n",
      "memory usage: 437.1 KB\n"
     ]
    }
   ],
   "source": [
    "X.info()"
   ]
  },
  {
   "cell_type": "markdown",
   "id": "04177168-2b96-4fd7-8b8c-a6facc49d990",
   "metadata": {},
   "source": [
    "### А как узнать, какое качество будет на новых данных?"
   ]
  },
  {
   "cell_type": "markdown",
   "id": "fe505c9b-4e10-43db-8f02-5223ed0c5482",
   "metadata": {},
   "source": [
    "<div>\n",
    "<img src=\"https://user.oc-static.com/upload/2020/01/20/15795305751304_3c2-1.png\" width=\"500\"/>\n",
    "</div>"
   ]
  },
  {
   "cell_type": "code",
   "execution_count": 10,
   "id": "489feeb2-509f-4940-99d5-7f702077188a",
   "metadata": {},
   "outputs": [],
   "source": [
    "X_train, X_test, y_train, y_test = train_test_split(X, y, stratify=y, random_state = 1, test_size = 0.2) # разделяем на трейн и тест"
   ]
  },
  {
   "cell_type": "markdown",
   "id": "a7faba45-2bed-4261-9d39-ac463703aafe",
   "metadata": {},
   "source": [
    "<div>\n",
    "<img src=\"https://user.oc-static.com/upload/2020/01/20/157953069939_3c2-2.png\" width=\"500\"/>\n",
    "</div>"
   ]
  },
  {
   "cell_type": "markdown",
   "id": "f2968702-2c77-443b-ad65-17d96199b3f4",
   "metadata": {},
   "source": [
    "## Решающие деревья"
   ]
  },
  {
   "cell_type": "markdown",
   "id": "49e18b56-983a-47b5-a8c8-91ae381bb790",
   "metadata": {},
   "source": [
    "<div>\n",
    "<img src=\"https://skillbox.ru/upload/setka_images/11480520092023_278cadb5c5a600fd354bbb4a32acf34407bf98f0.png\" width=\"500\"/>\n",
    "</div>"
   ]
  },
  {
   "cell_type": "code",
   "execution_count": 11,
   "id": "0e8a4e1e-5320-4612-b601-e3cb0e7d8e8d",
   "metadata": {},
   "outputs": [],
   "source": [
    "dt = tree.DecisionTreeClassifier(\n",
    "    max_depth=5,\n",
    "    random_state=42\n",
    ") # задаем решающее дерево, с максимальной глубиной 7"
   ]
  },
  {
   "cell_type": "code",
   "execution_count": 12,
   "id": "27fabd45-3449-41c2-9c3c-9d101f8cc4ec",
   "metadata": {},
   "outputs": [
    {
     "name": "stdout",
     "output_type": "stream",
     "text": [
      "0.8\n"
     ]
    }
   ],
   "source": [
    "dt.fit(X_train, y_train) # обучаем дерево\n",
    "y_test_pred = dt.predict(X_test) # предсказывает результат на тестовых данных\n",
    "print(metrics.accuracy_score(y_test, y_test_pred)) # находим точность предсказания"
   ]
  },
  {
   "cell_type": "markdown",
   "id": "38f838cd-5207-4cf8-8d4e-9de652753cdf",
   "metadata": {},
   "source": [
    "## KNN"
   ]
  },
  {
   "cell_type": "markdown",
   "id": "72f9f7c6-7e1f-4b39-8ef9-21b4d68a6d73",
   "metadata": {},
   "source": [
    "Скажи мне, кто твой друг - и я скажу, кто ты!"
   ]
  },
  {
   "cell_type": "markdown",
   "id": "89b7815a-13c0-4519-9911-5e039e38af53",
   "metadata": {},
   "source": [
    "<div>\n",
    "<img src=\"https://www.jcchouinard.com/wp-content/uploads/2021/08/image-8.png\" width=\"500\"/>\n",
    "</div>"
   ]
  },
  {
   "cell_type": "code",
   "execution_count": 13,
   "id": "84e2a9c0-89d0-426f-9a69-e508423564b0",
   "metadata": {},
   "outputs": [
    {
     "name": "stdout",
     "output_type": "stream",
     "text": [
      "0.8380952380952381\n"
     ]
    }
   ],
   "source": [
    "from sklearn.neighbors import KNeighborsClassifier\n",
    "\n",
    "# объявляем метод 5 ближайших соседей\n",
    "knn = KNeighborsClassifier(n_neighbors = 9)\n",
    "\n",
    "# обучаем его по тренировочные выборке \n",
    "knn.fit(X_train, y_train)\n",
    "\n",
    "y_test_pred = knn.predict(X_test) # предсказывает результат на тестовых данных\n",
    "print(metrics.accuracy_score(y_test, y_test_pred)) # находим качество предсказания"
   ]
  },
  {
   "cell_type": "code",
   "execution_count": 14,
   "id": "9c958f4f-7b15-420a-9dac-c02093c7ac9c",
   "metadata": {},
   "outputs": [
    {
     "name": "stdout",
     "output_type": "stream",
     "text": [
      "[[171   2]\n",
      " [ 32   5]]\n"
     ]
    }
   ],
   "source": [
    "print(metrics.confusion_matrix(y_test, y_test_pred))"
   ]
  },
  {
   "cell_type": "code",
   "execution_count": 15,
   "id": "6b23ab3c-49a7-442c-899c-fe486471f19c",
   "metadata": {},
   "outputs": [
    {
     "data": {
      "image/png": "[encoded data removed]",
      "text/plain": [
       "<Figure size 640x480 with 2 Axes>"
      ]
     },
     "metadata": {},
     "output_type": "display_data"
    }
   ],
   "source": [
    "from sklearn.metrics import confusion_matrix, ConfusionMatrixDisplay\n",
    "import matplotlib.pyplot as plt\n",
    "cm = metrics.confusion_matrix(y_test, y_test_pred)\n",
    "disp = ConfusionMatrixDisplay(confusion_matrix=cm,  display_labels=knn.classes_)\n",
    "disp.plot()\n",
    "plt.show()"
   ]
  },
  {
   "cell_type": "markdown",
   "id": "0a9fbf7d-a3b4-45e7-b482-3378adb05f16",
   "metadata": {},
   "source": [
    "Какие еще есть метрики?"
   ]
  },
  {
   "cell_type": "markdown",
   "id": "34c22736-22a8-4542-9923-e85d671a4e08",
   "metadata": {},
   "source": [
    "<div>\n",
    "<img src=\"https://z3.ax1x.com/2021/05/02/ge884H.png\" width=\"500\"/>\n",
    "</div>"
   ]
  },
  {
   "cell_type": "code",
   "execution_count": 16,
   "id": "1c0c6d12-c4bf-4cbf-8545-1fd42e472ebb",
   "metadata": {},
   "outputs": [
    {
     "name": "stdout",
     "output_type": "stream",
     "text": [
      "0.7142857142857143\n",
      "0.13513513513513514\n"
     ]
    }
   ],
   "source": [
    "print(metrics.precision_score(y_test, y_test_pred)) \n",
    "print(metrics.recall_score(y_test, y_test_pred))"
   ]
  },
  {
   "cell_type": "code",
   "execution_count": 17,
   "id": "94daad83-48ee-4b23-b43c-1536cd26ef1a",
   "metadata": {},
   "outputs": [
    {
     "name": "stdout",
     "output_type": "stream",
     "text": [
      "0.8423645320197044\n",
      "0.9884393063583815\n"
     ]
    }
   ],
   "source": [
    "print(metrics.precision_score(y_test, y_test_pred, pos_label = 0)) \n",
    "print(metrics.recall_score(y_test, y_test_pred, pos_label = 0))"
   ]
  }
 ],
 "metadata": {
  "kernelspec": {
   "display_name": "Python 3 (ipykernel)",
   "language": "python",
   "name": "python3"
  },
  "language_info": {
   "codemirror_mode": {
    "name": "ipython",
    "version": 3
   },
   "file_extension": ".py",
   "mimetype": "text/x-python",
   "name": "python",
   "nbconvert_exporter": "python",
   "pygments_lexer": "ipython3",
   "version": "3.11.5"
  }
 },
 "nbformat": 4,
 "nbformat_minor": 5
}
